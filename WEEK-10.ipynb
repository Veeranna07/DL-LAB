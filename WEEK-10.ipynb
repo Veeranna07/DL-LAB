{
  "nbformat": 4,
  "nbformat_minor": 0,
  "metadata": {
    "colab": {
      "provenance": [],
      "gpuType": "T4"
    },
    "kernelspec": {
      "name": "python3",
      "display_name": "Python 3"
    },
    "language_info": {
      "name": "python"
    },
    "accelerator": "GPU"
  },
  "cells": [
    {
      "cell_type": "markdown",
      "source": [
        "**Build a bidirectional Recurrent Neural Network for any one application.**"
      ],
      "metadata": {
        "id": "dWag5sO_8xRG"
      }
    },
    {
      "cell_type": "code",
      "execution_count": 1,
      "metadata": {
        "id": "-Y122Uxi8rmg"
      },
      "outputs": [],
      "source": [
        "# Import necessary packages\n",
        "import warnings\n",
        "warnings.filterwarnings('ignore')\n",
        "from keras.datasets import imdb\n",
        "from keras.utils import pad_sequences\n",
        "from keras.models import Sequential\n",
        "from keras.layers import Embedding,\tBidirectional, SimpleRNN, Dense"
      ]
    },
    {
      "cell_type": "code",
      "source": [
        "# Load Dataset and split for Training and Testing\n",
        "features = 2000\n",
        "len = 50\n",
        "(X_train, y_train),(X_test, y_test) = imdb.load_data(num_words=features)"
      ],
      "metadata": {
        "colab": {
          "base_uri": "https://localhost:8080/"
        },
        "id": "ZZg3RvBb84Pf",
        "outputId": "43a72789-e08d-4da4-f0ba-1cf7674c55d3"
      },
      "execution_count": 2,
      "outputs": [
        {
          "output_type": "stream",
          "name": "stdout",
          "text": [
            "Downloading data from https://storage.googleapis.com/tensorflow/tf-keras-datasets/imdb.npz\n",
            "17464789/17464789 [==============================] - 0s 0us/step\n"
          ]
        }
      ]
    },
    {
      "cell_type": "code",
      "source": [
        "# Fix the pad sequence\n",
        "X_train = pad_sequences(X_train, maxlen=len)\n",
        "X_test = pad_sequences(X_test, maxlen=len)\n",
        "\n",
        "embedding = 128\n",
        "hidden = 64"
      ],
      "metadata": {
        "id": "32a3aaoX853Q"
      },
      "execution_count": 3,
      "outputs": []
    },
    {
      "cell_type": "code",
      "source": [
        "# Create a Sequential model object\n",
        "model = Sequential()\n",
        "model.add(Embedding(features, embedding,input_length=len))\n",
        "model.add(Bidirectional(SimpleRNN(hidden)))\n",
        "model.add(Dense(1, activation='sigmoid'))\n",
        "model.compile('adam', 'binary_crossentropy',metrics=['accuracy'])"
      ],
      "metadata": {
        "id": "AeqjSyrL87kb"
      },
      "execution_count": 4,
      "outputs": []
    },
    {
      "cell_type": "code",
      "source": [
        "# Set batch size and number of epochs you want\n",
        "batch_size = 32\n",
        "epochs = 5\n",
        "\n",
        "model.fit(X_train, y_train, batch_size=batch_size, epochs=epochs, validation_data=(X_test, y_test))\n",
        "\n",
        "loss, accuracy = model.evaluate(X_test, y_test)\n",
        "print('Test accuracy:', accuracy)"
      ],
      "metadata": {
        "colab": {
          "base_uri": "https://localhost:8080/"
        },
        "id": "9sAHKXr_89q2",
        "outputId": "e1857501-4d53-4061-d81f-6a9d1f2833e9"
      },
      "execution_count": 5,
      "outputs": [
        {
          "output_type": "stream",
          "name": "stdout",
          "text": [
            "Epoch 1/5\n",
            "782/782 [==============================] - 98s 116ms/step - loss: 0.5665 - accuracy: 0.6867 - val_loss: 0.4618 - val_accuracy: 0.7885\n",
            "Epoch 2/5\n",
            "782/782 [==============================] - 87s 111ms/step - loss: 0.4173 - accuracy: 0.8087 - val_loss: 0.4568 - val_accuracy: 0.7878\n",
            "Epoch 3/5\n",
            "782/782 [==============================] - 84s 107ms/step - loss: 0.3476 - accuracy: 0.8516 - val_loss: 0.4799 - val_accuracy: 0.7816\n",
            "Epoch 4/5\n",
            "782/782 [==============================] - 84s 107ms/step - loss: 0.2695 - accuracy: 0.8889 - val_loss: 0.5486 - val_accuracy: 0.7700\n",
            "Epoch 5/5\n",
            "782/782 [==============================] - 81s 103ms/step - loss: 0.1951 - accuracy: 0.9251 - val_loss: 0.6819 - val_accuracy: 0.7652\n",
            "782/782 [==============================] - 8s 10ms/step - loss: 0.6819 - accuracy: 0.7652\n",
            "Test accuracy: 0.7651600241661072\n"
          ]
        }
      ]
    }
  ]
}